{
 "cells": [
  {
   "cell_type": "markdown",
   "metadata": {},
   "source": [
    "# Q1:"
   ]
  },
  {
   "cell_type": "markdown",
   "metadata": {},
   "source": [
    "Think of at least three kinds of your favorite pizza. Store these pizza names in a list, and then use a for loop to print the name of each pizza."
   ]
  },
  {
   "cell_type": "code",
   "execution_count": 59,
   "metadata": {},
   "outputs": [
    {
     "name": "stdout",
     "output_type": "stream",
     "text": [
      "***Margherita Pizza***\n",
      "***Thin Crust Pizza***\n",
      "***Mushrooms Pizza***\n"
     ]
    }
   ],
   "source": [
    "Pizza = [\"***Margherita Pizza***\", \"***Thin Crust Pizza***\", \"***Mushrooms Pizza***\" ]\n",
    "for piz in Pizza:\n",
    "    print (piz)"
   ]
  },
  {
   "cell_type": "code",
   "execution_count": null,
   "metadata": {},
   "outputs": [],
   "source": []
  },
  {
   "cell_type": "markdown",
   "metadata": {},
   "source": [
    "# Q2"
   ]
  },
  {
   "cell_type": "markdown",
   "metadata": {},
   "source": [
    "Start with your last question , Modify your for loop to print a sentence using the name of the pizza\n",
    "instead of printing just the name of the pizza. For each pizza you should\n",
    "have one line of output containing a simple statement like I like pepperoni\n",
    "pizza."
   ]
  },
  {
   "cell_type": "code",
   "execution_count": 58,
   "metadata": {},
   "outputs": [
    {
     "name": "stdout",
     "output_type": "stream",
     "text": [
      "******I Like Margherita Pizza*******\n",
      "******I Like Thin Crust Pizza*******\n",
      "******I Like Mushrooms Pizza*******\n"
     ]
    }
   ],
   "source": [
    "for love_pizza in Pizza:\n",
    "    print (f\"******I Like {love_pizza}*******\")"
   ]
  },
  {
   "cell_type": "code",
   "execution_count": null,
   "metadata": {},
   "outputs": [],
   "source": []
  },
  {
   "cell_type": "code",
   "execution_count": null,
   "metadata": {},
   "outputs": [],
   "source": []
  },
  {
   "cell_type": "markdown",
   "metadata": {},
   "source": [
    "# Q3:"
   ]
  },
  {
   "cell_type": "markdown",
   "metadata": {},
   "source": [
    "Use a for loop to print the numbers from 1 to 20,\n",
    "inclusive."
   ]
  },
  {
   "cell_type": "code",
   "execution_count": 8,
   "metadata": {},
   "outputs": [
    {
     "name": "stdout",
     "output_type": "stream",
     "text": [
      "1\n",
      "2\n",
      "3\n",
      "4\n",
      "5\n",
      "6\n",
      "7\n",
      "8\n",
      "9\n",
      "10\n",
      "11\n",
      "12\n",
      "13\n",
      "14\n",
      "15\n",
      "16\n",
      "17\n",
      "18\n",
      "19\n",
      "20\n"
     ]
    }
   ],
   "source": [
    "for numbers in range (1,21):\n",
    "    print(numbers)"
   ]
  },
  {
   "cell_type": "code",
   "execution_count": null,
   "metadata": {},
   "outputs": [],
   "source": []
  },
  {
   "cell_type": "code",
   "execution_count": null,
   "metadata": {},
   "outputs": [],
   "source": []
  },
  {
   "cell_type": "markdown",
   "metadata": {},
   "source": [
    "# Q4:"
   ]
  },
  {
   "cell_type": "markdown",
   "metadata": {},
   "source": [
    "Use the third argument of the range() function to make a list\n",
    "of the odd numbers from 1 to 20. Use a for loop to print each number."
   ]
  },
  {
   "cell_type": "code",
   "execution_count": 9,
   "metadata": {},
   "outputs": [
    {
     "name": "stdout",
     "output_type": "stream",
     "text": [
      "1\n",
      "3\n",
      "5\n",
      "7\n",
      "9\n",
      "11\n",
      "13\n",
      "15\n",
      "17\n",
      "19\n"
     ]
    }
   ],
   "source": [
    "for numbers in range (1,20,2):\n",
    "    print (numbers)"
   ]
  },
  {
   "cell_type": "code",
   "execution_count": null,
   "metadata": {},
   "outputs": [],
   "source": []
  },
  {
   "cell_type": "code",
   "execution_count": null,
   "metadata": {},
   "outputs": [],
   "source": []
  },
  {
   "cell_type": "markdown",
   "metadata": {},
   "source": [
    "# Q5:"
   ]
  },
  {
   "cell_type": "markdown",
   "metadata": {},
   "source": [
    "Make a list of the multiples of 3 from 3 to 30. Use a for loop to\n",
    "print the numbers in your list."
   ]
  },
  {
   "cell_type": "code",
   "execution_count": 12,
   "metadata": {},
   "outputs": [
    {
     "name": "stdout",
     "output_type": "stream",
     "text": [
      "3\n",
      "6\n",
      "9\n",
      "12\n",
      "15\n",
      "18\n",
      "21\n",
      "24\n",
      "27\n",
      "30\n"
     ]
    }
   ],
   "source": [
    "for multiples_of_3 in range (3,31,3):\n",
    "    print (multiples_of_3 )"
   ]
  },
  {
   "cell_type": "code",
   "execution_count": null,
   "metadata": {},
   "outputs": [],
   "source": []
  },
  {
   "cell_type": "code",
   "execution_count": null,
   "metadata": {},
   "outputs": [],
   "source": []
  },
  {
   "cell_type": "markdown",
   "metadata": {},
   "source": [
    "# Q6:"
   ]
  },
  {
   "cell_type": "markdown",
   "metadata": {},
   "source": [
    "A number raised to the third power is called a cube. For example,\n",
    "the cube of 2 is written as 2**3 in Python. Make a list of the first 10 cubes (that\n",
    "is, the cube of each integer from 1 through 10), and use a for loop to print out\n",
    "the value of each cube"
   ]
  },
  {
   "cell_type": "code",
   "execution_count": 15,
   "metadata": {},
   "outputs": [
    {
     "name": "stdout",
     "output_type": "stream",
     "text": [
      "Cube of 3  1 ==  1\n",
      "Cube of 3  2 ==  8\n",
      "Cube of 3  3 ==  27\n",
      "Cube of 3  4 ==  64\n",
      "Cube of 3  5 ==  125\n",
      "Cube of 3  6 ==  216\n",
      "Cube of 3  7 ==  343\n",
      "Cube of 3  8 ==  512\n",
      "Cube of 3  9 ==  729\n",
      "Cube of 3  10 ==  1000\n"
     ]
    }
   ],
   "source": [
    "for c in range(1,11):\n",
    "     print(f\"Cube of 3  {c} ==  {c**3}\")"
   ]
  },
  {
   "cell_type": "code",
   "execution_count": null,
   "metadata": {},
   "outputs": [],
   "source": []
  },
  {
   "cell_type": "code",
   "execution_count": null,
   "metadata": {},
   "outputs": [],
   "source": []
  },
  {
   "cell_type": "code",
   "execution_count": null,
   "metadata": {},
   "outputs": [],
   "source": []
  },
  {
   "cell_type": "markdown",
   "metadata": {},
   "source": [
    "# Q7:"
   ]
  },
  {
   "cell_type": "markdown",
   "metadata": {},
   "source": [
    "###### Make a python program that conatains your nine favourite dishes in a list called foods.\n",
    "\n",
    "###### Print the message, The first three items in the list are:. \n",
    "###### Then use a slice to print the first three items from that program’s list.\n",
    "\n",
    "###### Print the message, Three items from the middle of the list are:\n",
    "###### Use a slice to print three items from the middle of the list.\n",
    "\n",
    "###### Print the message, The last three items in the list are:\n",
    "###### Use a slice to print the last three items in the list."
   ]
  },
  {
   "cell_type": "code",
   "execution_count": 38,
   "metadata": {},
   "outputs": [],
   "source": [
    "foods = [\"Mutton Pulao\" , \"Beef Biryani\" , \"Alfredo Pasta\" , \"Aloo Gosht\" , \"chicken Tikka\" , \"Nihari\" , \"Haleem\" , \"Beef Burger\" , \"Daal Chawal\" ]"
   ]
  },
  {
   "cell_type": "code",
   "execution_count": 40,
   "metadata": {},
   "outputs": [
    {
     "name": "stdout",
     "output_type": "stream",
     "text": [
      "The first three items in the list are: \n",
      "['Mutton Pulao', 'Beef Biryani', 'Alfredo Pasta']\n",
      "\n",
      "Three items from the middle of the list are : \n",
      "['Aloo Gosht', 'chicken Tikka', 'Nihari']\n",
      "\n",
      "The last three items in the list are: \n",
      "['Haleem', 'Beef Burger', 'Daal Chawal']\n"
     ]
    }
   ],
   "source": [
    "print(\"The first three items in the list are: \")\n",
    "print (foods [:3] )\n",
    "print(\"\\nThree items from the middle of the list are : \")\n",
    "print (foods [3:6])\n",
    "print (\"\\nThe last three items in the list are: \")\n",
    "print (foods [6:])"
   ]
  },
  {
   "cell_type": "code",
   "execution_count": null,
   "metadata": {},
   "outputs": [],
   "source": []
  },
  {
   "cell_type": "code",
   "execution_count": null,
   "metadata": {},
   "outputs": [],
   "source": []
  },
  {
   "cell_type": "markdown",
   "metadata": {},
   "source": [
    "# Q8:"
   ]
  },
  {
   "cell_type": "markdown",
   "metadata": {},
   "source": [
    "### Start with your program from your last Question8.\n",
    "###### Make a copy of the list of foods, and call it friend_foods.\n",
    "###### Then, do the following:\n",
    "######    Add a new dish to the original list.\n",
    "######    Add a different dish to the list friend_foodss.\n",
    "######    Prove that you have two separate lists. \n",
    "###### Print the message, My favorite pizzas are: and then use a for loop to print the first list. \n",
    "###### Print the message,\n",
    "###### My friend’s favorite foods are:, and then use a for loop to print the second list.\n",
    "    \n",
    "##### NOTE: Make sure each new dish is stored in the appropriate list."
   ]
  },
  {
   "cell_type": "code",
   "execution_count": 48,
   "metadata": {},
   "outputs": [
    {
     "name": "stdout",
     "output_type": "stream",
     "text": [
      "My favorite foods are:\n",
      "\n",
      "Mutton Pulao\n",
      "Beef Biryani\n",
      "Alfredo Pasta\n",
      "Aloo Gosht\n",
      "chicken Tikka\n",
      "Nihari\n",
      "Haleem\n",
      "Beef Burger\n",
      "Daal Chawal\n",
      "Chana Chaat\n",
      "\n",
      "My friend's favorite foods are:\n",
      "\n",
      "Mutton Pulao\n",
      "Beef Biryani\n",
      "Alfredo Pasta\n",
      "Aloo Gosht\n",
      "chicken Tikka\n",
      "Nihari\n",
      "Haleem\n",
      "Beef Burger\n",
      "Daal Chawal\n",
      "Chapli Kabaab\n",
      "Ras Malai\n"
     ]
    }
   ],
   "source": [
    "foods = [\"Mutton Pulao\" , \"Beef Biryani\" , \"Alfredo Pasta\" , \"Aloo Gosht\" , \"chicken Tikka\" , \"Nihari\" , \"Haleem\" , \"Beef Burger\" , \"Daal Chawal\" ]\n",
    "\n",
    "friend_foods = foods.copy()\n",
    "\n",
    "foods.append(\"Chana Chaat\")\n",
    "\n",
    "friend_foods.append(\"Chapli Kabaab\")\n",
    "friend_foods.append(\"Ras Malai\")\n",
    "\n",
    "print(\"My favorite foods are:\\n\")\n",
    "\n",
    "for food in foods:\n",
    "    print(food)\n",
    "    \n",
    "print(\"\\nMy friend's favorite foods are:\\n\")\n",
    "\n",
    "for food in friend_foods:\n",
    "    print(food)"
   ]
  },
  {
   "cell_type": "code",
   "execution_count": null,
   "metadata": {},
   "outputs": [],
   "source": []
  },
  {
   "cell_type": "code",
   "execution_count": null,
   "metadata": {},
   "outputs": [],
   "source": [
    " "
   ]
  },
  {
   "cell_type": "code",
   "execution_count": null,
   "metadata": {},
   "outputs": [],
   "source": []
  },
  {
   "cell_type": "markdown",
   "metadata": {},
   "source": [
    "# Q9:"
   ]
  },
  {
   "cell_type": "markdown",
   "metadata": {},
   "source": [
    "Take a user input from console line.Store it in a variable called Alien_color.\n",
    "\n",
    "If the alien’s color is red, print a statement that the player just earned 5 points for shooting the alien.\n",
    "\n",
    "If the alien’s color isn’t green, print a statement that the player just earned 10 points.\n",
    "\n",
    "If the alien's color isn't red or green , print a statment :, Alien is no more....."
   ]
  },
  {
   "cell_type": "code",
   "execution_count": 52,
   "metadata": {},
   "outputs": [
    {
     "name": "stdout",
     "output_type": "stream",
     "text": [
      "Enter Alien Color: red\n",
      "The player just earned 5 points for shooting the alien.\n"
     ]
    }
   ],
   "source": [
    "alien_color = input(\"Enter Alien Color: \")\n",
    "\n",
    "alien_color = alien_color.lower()\n",
    "\n",
    "if alien_color == \"red\":\n",
    "    print(\"The player just earned 5 points for shooting the alien.\")\n",
    "elif alien_color != \"green\":\n",
    "    print(\"The player just earned 10 points.\")\n",
    "else:\n",
    "    print(\"Alien is no more.....\")"
   ]
  },
  {
   "cell_type": "code",
   "execution_count": 53,
   "metadata": {},
   "outputs": [
    {
     "name": "stdout",
     "output_type": "stream",
     "text": [
      "Enter Alien Color: yellow\n",
      "The player just earned 10 points.\n"
     ]
    }
   ],
   "source": [
    "alien_color = input(\"Enter Alien Color: \")\n",
    "\n",
    "alien_color = alien_color.lower()\n",
    "\n",
    "if alien_color == \"red\":\n",
    "    print(\"The player just earned 5 points for shooting the alien.\")\n",
    "elif alien_color != \"green\":\n",
    "    print(\"The player just earned 10 points.\")\n",
    "else:\n",
    "    print(\"Alien is no more.....\")"
   ]
  },
  {
   "cell_type": "code",
   "execution_count": 54,
   "metadata": {},
   "outputs": [
    {
     "name": "stdout",
     "output_type": "stream",
     "text": [
      "Enter Alien Color: green\n",
      "Alien is no more.....\n"
     ]
    }
   ],
   "source": [
    "alien_color = input(\"Enter Alien Color: \")\n",
    "\n",
    "alien_color = alien_color.lower()\n",
    "\n",
    "if alien_color == \"red\":\n",
    "    print(\"The player just earned 5 points for shooting the alien.\")\n",
    "elif alien_color != \"green\":\n",
    "    print(\"The player just earned 10 points.\")\n",
    "else:\n",
    "    print(\"Alien is no more.....\")"
   ]
  },
  {
   "cell_type": "code",
   "execution_count": null,
   "metadata": {},
   "outputs": [],
   "source": []
  },
  {
   "cell_type": "code",
   "execution_count": null,
   "metadata": {},
   "outputs": [],
   "source": []
  },
  {
   "cell_type": "markdown",
   "metadata": {},
   "source": [
    "# Q10:"
   ]
  },
  {
   "cell_type": "markdown",
   "metadata": {},
   "source": [
    "Write an if-elif-else chain that determines a person’s\n",
    "stage of life. Set a value for the variable age, and then:\n",
    "    \n",
    "•\t If the person is less than 2 years old, print a message that the person is a baby.\n",
    "\n",
    "•\t If the person is at least 2 years old but less than 4, print a message that the person is a toddler.\n",
    "\n",
    "•\t If the person is at least 4 years old but less than 13, print a message that the person is a kid.\n",
    "\n",
    "•\t If the person is at least 13 years old but less than 20, print a message that the person is a teenager.\n",
    "\n",
    "•\t If the person is at least 20 years old but less than 65, print a message that the person is an adult.\n",
    "\n",
    "•\t If the person is age 65 or older, print a message that the person is an elder."
   ]
  },
  {
   "cell_type": "code",
   "execution_count": 56,
   "metadata": {},
   "outputs": [
    {
     "name": "stdout",
     "output_type": "stream",
     "text": [
      "Enter the person's age: 30\n",
      "The Person Is A Adult\n"
     ]
    }
   ],
   "source": [
    "person = int(input(\"Enter the person's age: \"))\n",
    "\n",
    "if person >0 and person < 2:\n",
    "     print(\"The Person Is A Baby\")\n",
    "elif person >=2 and person < 4:\n",
    "    print(\"The Person Is A Toddler\")\n",
    "elif person >= 4 and person < 13:\n",
    "    print(\"The Person Is A Kid\")\n",
    "elif person >= 13 and person < 20:\n",
    "    print(\"The Person Is A Teenager\")\n",
    "elif person >= 20 and person < 65:\n",
    "    print(\"The Person Is A Adult\")\n",
    "else:\n",
    "    print(\"The Person Is An Elder\")"
   ]
  },
  {
   "cell_type": "code",
   "execution_count": 57,
   "metadata": {},
   "outputs": [
    {
     "name": "stdout",
     "output_type": "stream",
     "text": [
      "Enter the person's age: 4\n",
      "The Person Is A Kid\n"
     ]
    }
   ],
   "source": [
    "person = int(input(\"Enter the person's age: \"))\n",
    "\n",
    "if person >0 and person < 2:\n",
    "     print(\"The Person Is A Baby\")\n",
    "elif person >=2 and person < 4:\n",
    "    print(\"The Person Is A Toddler\")\n",
    "elif person >= 4 and person < 13:\n",
    "    print(\"The Person Is A Kid\")\n",
    "elif person >= 13 and person < 20:\n",
    "    print(\"The Person Is A Teenager\")\n",
    "elif person >= 20 and person < 65:\n",
    "    print(\"The Person Is A Adult\")\n",
    "else:\n",
    "    print(\"The Person Is An Elder\")"
   ]
  },
  {
   "cell_type": "code",
   "execution_count": null,
   "metadata": {},
   "outputs": [],
   "source": []
  },
  {
   "cell_type": "code",
   "execution_count": null,
   "metadata": {},
   "outputs": [],
   "source": []
  },
  {
   "cell_type": "code",
   "execution_count": null,
   "metadata": {},
   "outputs": [],
   "source": []
  },
  {
   "cell_type": "markdown",
   "metadata": {},
   "source": [
    "# Q11:"
   ]
  },
  {
   "cell_type": "markdown",
   "metadata": {},
   "source": [
    "Do the following to create a program that simulates how websites ensure that everyone has a unique username.\n",
    "\n",
    "•\t Make a list of five or more usernames called current_users.\n",
    "\n",
    "•\t Make another list of five usernames called new_users. \n",
    "Make sure one or two of the new usernames are also in the current_users list.\n",
    "\n",
    "•\t Loop through the new_users list to see if each new username has already been used. \n",
    "If it has, print a message that the person will need to enter a new username. \n",
    "If a username has not been used, print a message saying that the username is available.\n",
    "\n",
    "•\t Make sure your comparison is case insensitive. If 'John' has been used, 'JOHN' should not be accepted."
   ]
  },
  {
   "cell_type": "code",
   "execution_count": 12,
   "metadata": {},
   "outputs": [
    {
     "name": "stdout",
     "output_type": "stream",
     "text": [
      "SANNAN: this username is not available, please enter a new username.\n",
      "Zubair: this username is available.\n",
      "Saad: this username is available.\n",
      "nabeel: this username is not available, please enter a new username.\n",
      "Ahmed: this username is available.\n",
      "ALTAMASH: this username is not available, please enter a new username.\n"
     ]
    }
   ],
   "source": [
    "current_users = [\"Ali\",\"Nabeel\",\"Altamash\",\"Sannan\",\"Ahad\",\"Talib\",\"salman\"]\n",
    "new_users= [\"SANNAN\",\"Zubair\",\"Saad\",\"nabeel\",\"Ahmed\",\"ALTAMASH\",]\n",
    "for username in new_users:\n",
    "    if username.title() in current_users:\n",
    "        print(f\"{username}: this username is not available, please enter a new username.\")\n",
    "    else:\n",
    "        print(f\"{username}: this username is available.\")\n",
    "    \n"
   ]
  },
  {
   "cell_type": "code",
   "execution_count": null,
   "metadata": {},
   "outputs": [],
   "source": []
  },
  {
   "cell_type": "code",
   "execution_count": null,
   "metadata": {},
   "outputs": [],
   "source": []
  },
  {
   "cell_type": "markdown",
   "metadata": {},
   "source": [
    "# Q12:"
   ]
  },
  {
   "cell_type": "markdown",
   "metadata": {},
   "source": [
    "Use a dictionary to store information about a person you know.\n",
    "Store their first name, last name, age, and the city in which they live. \n",
    "You should have keys such as first_name, last_name, age, and city. \n",
    "Print each piece of information stored in your dictionary"
   ]
  },
  {
   "cell_type": "code",
   "execution_count": 24,
   "metadata": {},
   "outputs": [
    {
     "name": "stdout",
     "output_type": "stream",
     "text": [
      "My name is Sannan Khan, I am 27 years old. I live in Islamabad\n"
     ]
    }
   ],
   "source": [
    "person={\"first_name\":\"Sannan\",\"last_name\":\"Khan\",\"age\":27 , \"city\":\"Islamabad\"}\n",
    "\n",
    "print(\"My name is \"+ str(person[\"first_name\"] )+\" \"+ str(person[\"last_name\"])+\", I am \" +str(person[\"age\"])+ (\" years old. I live in \")+str(person[\"city\"]))"
   ]
  },
  {
   "cell_type": "code",
   "execution_count": null,
   "metadata": {},
   "outputs": [],
   "source": []
  },
  {
   "cell_type": "code",
   "execution_count": null,
   "metadata": {},
   "outputs": [],
   "source": []
  },
  {
   "cell_type": "code",
   "execution_count": null,
   "metadata": {},
   "outputs": [],
   "source": []
  },
  {
   "cell_type": "markdown",
   "metadata": {},
   "source": [
    "# Q13:"
   ]
  },
  {
   "cell_type": "markdown",
   "metadata": {},
   "source": [
    "Starts with your last question 12 , loop through the dictionary’s keys and values.\n",
    "When you’re sure that your loop works, add five more Python terms to your\n",
    "dictionary . When you run your program again, these new words and meanings\n",
    "should automatically be included in the output."
   ]
  },
  {
   "cell_type": "code",
   "execution_count": 16,
   "metadata": {},
   "outputs": [
    {
     "name": "stdout",
     "output_type": "stream",
     "text": [
      "first_name: Sannan\n",
      "last_name: Khan\n",
      "age: 27\n",
      "city: Karachi\n",
      "abs: Return the absolute value of a number.\n",
      "argument: Extra information which the computer uses to perform commands.\n",
      "class: A template for creating user-defined objects.\n",
      "assignment: Giving a value to a variable.\n",
      "break: Used to exit a for loop or a while loop.\n"
     ]
    }
   ],
   "source": [
    "person={\"first_name\":\"Sannan\",\"last_name\":\"Khan\",\"age\":27,\"city\":\"Karachi\"}\n",
    "\n",
    "person[\"abs\"]=\"Return the absolute value of a number.\"\n",
    "person[\"argument\"]=\"Extra information which the computer uses to perform commands.\"\n",
    "person[\"class\"]=\"A template for creating user-defined objects.\"\n",
    "person[\"assignment\"]=\"Giving a value to a variable.\"\n",
    "person[\"break\"]=\"Used to exit a for loop or a while loop.\"\n",
    "\n",
    "for keys,values in person.items():\n",
    "    print(f\"{keys}: {values}\")"
   ]
  },
  {
   "cell_type": "code",
   "execution_count": null,
   "metadata": {},
   "outputs": [],
   "source": []
  },
  {
   "cell_type": "code",
   "execution_count": null,
   "metadata": {},
   "outputs": [],
   "source": []
  },
  {
   "cell_type": "code",
   "execution_count": null,
   "metadata": {},
   "outputs": [],
   "source": []
  },
  {
   "cell_type": "code",
   "execution_count": null,
   "metadata": {},
   "outputs": [],
   "source": []
  },
  {
   "cell_type": "markdown",
   "metadata": {},
   "source": [
    "# Q14:"
   ]
  },
  {
   "cell_type": "markdown",
   "metadata": {},
   "source": [
    "Make a dictionary containing three major rivers and the country\n",
    "each river runs through. One key-value pair might be 'nile': 'egypt'.\n",
    "    \n",
    "    \n",
    "•\t Use a loop to print a sentence about each river, such as The Nile runs\n",
    "through Egypt.\n",
    "\n",
    "NOTE: use upper case through keys and values."
   ]
  },
  {
   "cell_type": "code",
   "execution_count": 18,
   "metadata": {},
   "outputs": [
    {
     "name": "stdout",
     "output_type": "stream",
     "text": [
      "The ST LAWRENCE runs through CANADA\n",
      "The NILE runs through EGYPT\n",
      "The CHAO PHRAYA runs through THAILAND\n",
      "The RIVER INDUS runs through PAKISTAN\n",
      "The MISSISSIPPI runs through USA\n"
     ]
    }
   ],
   "source": [
    "rivers = {\"St Lawrence\":\"Canada\",\"Nile\":\"Egypt\",\"Chao Phraya\":\"Thailand\",\"River Indus\":\"Pakistan\",\"Mississippi\":\"USA\"}\n",
    "for key,value in rivers.items():\n",
    "    print(f\"The {key.upper()} runs through {value.upper()}\")"
   ]
  },
  {
   "cell_type": "code",
   "execution_count": null,
   "metadata": {},
   "outputs": [],
   "source": []
  },
  {
   "cell_type": "code",
   "execution_count": null,
   "metadata": {},
   "outputs": [],
   "source": []
  },
  {
   "cell_type": "markdown",
   "metadata": {},
   "source": [
    "# Q15:"
   ]
  },
  {
   "cell_type": "markdown",
   "metadata": {},
   "source": [
    "Make several dictionaries, where the name of each dictionary is the\n",
    "name of a pet. In each dictionary, include the kind of animal and the owner’s\n",
    "name. Store these dictionaries in a list called pets. Next, loop through your list\n",
    "and as you do print everything you know about each pet."
   ]
  },
  {
   "cell_type": "code",
   "execution_count": 23,
   "metadata": {},
   "outputs": [
    {
     "name": "stdout",
     "output_type": "stream",
     "text": [
      "\n",
      "pet_animal:cat\n",
      "\n",
      "owner_name:altamash\n",
      "\n",
      "pet_animal:dog\n",
      "\n",
      "owner_name:Ali\n",
      "\n",
      "pet_animal:goat\n",
      "\n",
      "owner_name:Sannan\n",
      "\n",
      "pet_animal:sheep\n",
      "\n",
      "owner_name:Uzair\n",
      "\n",
      "pet_animal:lion\n",
      "\n",
      "owner_name:Salman\n"
     ]
    }
   ],
   "source": [
    "pet=[]\n",
    "Nibbi={\"pet_animal\":\"cat\",\"owner_name\":\"altamash\"}\n",
    "pet.append(Nibbi)\n",
    "Tommy={\"pet_animal\":\"dog\",\"owner_name\":\"Ali\"}\n",
    "pet.append(Tommy)\n",
    "akbar={\"pet_animal\":\"goat\",\"owner_name\":\"Sannan\"}\n",
    "pet.append(akbar)\n",
    "fighter={\"pet_animal\":\"sheep\",\"owner_name\":\"Uzair\"}\n",
    "pet.append(fighter)\n",
    "simba={\"pet_animal\":\"lion\",\"owner_name\":\"Salman\"}\n",
    "pet.append(simba)\n",
    "for animals in pet:\n",
    "    for key,value in animals.items():\n",
    "        print(f\"\\n{key}:{value}\")"
   ]
  },
  {
   "cell_type": "code",
   "execution_count": null,
   "metadata": {},
   "outputs": [],
   "source": []
  }
 ],
 "metadata": {
  "kernelspec": {
   "display_name": "Python 3",
   "language": "python",
   "name": "python3"
  },
  "language_info": {
   "codemirror_mode": {
    "name": "ipython",
    "version": 3
   },
   "file_extension": ".py",
   "mimetype": "text/x-python",
   "name": "python",
   "nbconvert_exporter": "python",
   "pygments_lexer": "ipython3",
   "version": "3.7.3"
  }
 },
 "nbformat": 4,
 "nbformat_minor": 2
}
